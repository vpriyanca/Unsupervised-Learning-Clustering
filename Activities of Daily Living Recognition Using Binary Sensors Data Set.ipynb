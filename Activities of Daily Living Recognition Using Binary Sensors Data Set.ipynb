{
 "cells": [
  {
   "cell_type": "code",
   "execution_count": 1,
   "id": "1a833e6f",
   "metadata": {},
   "outputs": [],
   "source": [
    "import pandas as pd\n",
    "from sklearn.preprocessing import StandardScaler\n",
    "from sklearn.cluster import KMeans\n",
    "import numpy as np\n",
    "from sklearn.decomposition import PCA\n",
    "from kmodes.kmodes import KModes\n",
    "from sklearn.preprocessing import LabelEncoder\n",
    "import matplotlib.pyplot as plt\n",
    "import seaborn as sns\n",
    "\n"
   ]
  },
  {
   "cell_type": "code",
   "execution_count": 2,
   "id": "225897d2",
   "metadata": {},
   "outputs": [
    {
     "name": "stdout",
     "output_type": "stream",
     "text": [
      "            Start time             End time   Activity\n",
      "0  2011-11-28 02:27:00  2011-11-28 10:18:00   Sleeping\n",
      "1  2011-11-28 10:21:00  2011-11-28 10:23:00  Toileting\n",
      "2  2011-11-28 10:25:00  2011-11-28 10:33:00  Showering\n",
      "3  2011-11-28 10:34:00  2011-11-28 10:43:00  Breakfast\n",
      "4  2011-11-28 10:49:00  2011-11-28 10:51:00   Grooming\n"
     ]
    }
   ],
   "source": [
    "# Read OrdonezA sensor events dataset\n",
    "#df_a_desc = pd.read_csv(\"/Users/vpriyanca/Downloads/MLDL course/UCI excel dataset /OrdonezA_Description.csv\")\n",
    "df_a_sensors = pd.read_csv(\"/Users/vpriyanca/Downloads/MLDL course/ML DL Project 2/Imported data/OrdonezA_Sensors.csv\")\n",
    "df_a_labels = pd.read_csv(\"/Users/vpriyanca/Downloads/MLDL course/ML DL Project 2/Imported data/OrdonezA_ADLs.csv\")\n",
    "#df_a_desc.head()\n",
    "#print (df_a_sensors.head())\n",
    "print(df_a_labels.head())"
   ]
  },
  {
   "cell_type": "code",
   "execution_count": 3,
   "id": "523f2014",
   "metadata": {},
   "outputs": [
    {
     "name": "stdout",
     "output_type": "stream",
     "text": [
      "            Start time             End time Location      Type    Place\n",
      "0  2012-11-11 21:14:21  2012-11-12 00:21:49     Seat  Pressure   Living\n",
      "1  2012-11-12 00:22:57  2012-11-12 00:22:59     Door       PIR   Living\n",
      "2  2012-11-12 00:23:14  2012-11-12 00:23:17     Door       PIR  Kitchen\n",
      "3  2012-11-12 00:24:20  2012-11-12 00:24:22     Door       PIR  Kitchen\n",
      "4  2012-11-12 00:24:42  2012-11-12 00:24:54     Door       PIR   Living\n"
     ]
    }
   ],
   "source": [
    "# Read OrdonezB sensor events dataset\n",
    "#df_b_desc = pd.read_csv(\"/Users/vpriyanca/Downloads/MLDL course/UCI excel dataset /OrdonezB_Description.csv\")\n",
    "df_b_sensors = pd.read_csv(\"/Users/vpriyanca/Downloads/MLDL course/ML DL Project 2/Imported data/OrdonezB_Sensors.csv\")\n",
    "df_b_labels = pd.read_csv(\"/Users/vpriyanca/Downloads/MLDL course/ML DL Project 2/Imported data/OrdonezB_ADLs.csv\")\n",
    "#df_b_desc.head()\n",
    "print (df_b_sensors.head())\n",
    "#print(df_b_labels.head())"
   ]
  },
  {
   "cell_type": "code",
   "execution_count": 4,
   "id": "b1acb4c9",
   "metadata": {},
   "outputs": [
    {
     "name": "stdout",
     "output_type": "stream",
     "text": [
      "            Start time             End time Activity_x Activity_y\n",
      "0  2011-11-28 02:27:00  2011-11-28 10:18:00   Sleeping        NaN\n",
      "1  2011-11-28 10:21:00  2011-11-28 10:23:00  Toileting        NaN\n",
      "2  2011-11-28 10:25:00  2011-11-28 10:33:00  Showering        NaN\n",
      "3  2011-11-28 10:34:00  2011-11-28 10:43:00  Breakfast        NaN\n",
      "4  2011-11-28 10:49:00  2011-11-28 10:51:00   Grooming        NaN\n",
      "            Start time             End time Location_x    Type_x   Place_x  \\\n",
      "0  2011-11-28 02:27:59  2011-11-28 10:18:11        Bed  Pressure   Bedroom   \n",
      "1  2011-11-28 10:21:24  2011-11-28 10:21:31    Cabinet  Magnetic  Bathroom   \n",
      "2  2011-11-28 10:21:44  2011-11-28 10:23:31      Basin       PIR  Bathroom   \n",
      "3  2011-11-28 10:23:02  2011-11-28 10:23:36     Toilet     Flush  Bathroom   \n",
      "4  2011-11-28 10:25:44  2011-11-28 10:32:06     Shower       PIR  Bathroom   \n",
      "\n",
      "  Location_y Type_y Place_y  \n",
      "0        NaN    NaN     NaN  \n",
      "1        NaN    NaN     NaN  \n",
      "2        NaN    NaN     NaN  \n",
      "3        NaN    NaN     NaN  \n",
      "4        NaN    NaN     NaN  \n"
     ]
    },
    {
     "ename": "NameError",
     "evalue": "name 'df_merge' is not defined",
     "output_type": "error",
     "traceback": [
      "\u001b[0;31m---------------------------------------------------------------------------\u001b[0m",
      "\u001b[0;31mNameError\u001b[0m                                 Traceback (most recent call last)",
      "Cell \u001b[0;32mIn[4], line 10\u001b[0m\n\u001b[1;32m      6\u001b[0m \u001b[38;5;28mprint\u001b[39m(df_merge_sensors\u001b[38;5;241m.\u001b[39mhead())\n\u001b[1;32m      7\u001b[0m \u001b[38;5;66;03m#df_merge.isnull().sum()\u001b[39;00m\n\u001b[1;32m      8\u001b[0m \u001b[38;5;66;03m#df_merge.duplicated().count()\u001b[39;00m\n\u001b[1;32m      9\u001b[0m \u001b[38;5;66;03m#df_merge.dropna(inplace=True)\u001b[39;00m\n\u001b[0;32m---> 10\u001b[0m \u001b[43mdf_merge\u001b[49m\u001b[38;5;241m.\u001b[39mshape\n",
      "\u001b[0;31mNameError\u001b[0m: name 'df_merge' is not defined"
     ]
    }
   ],
   "source": [
    "# Merge the two DataFrames on the 'Start time' and 'End time' columns using an outer join\n",
    "df_merge_labels = pd.merge(df_a_labels, df_b_labels, on=['Start time', 'End time'], how='outer')\n",
    "df_merge_sensors = pd.merge(df_a_sensors, df_b_sensors, on=['Start time', 'End time'], how='outer')\n",
    "# Print the first few rows of the merged DataFrame\n",
    "print(df_merge_labels.head())\n",
    "print(df_merge_sensors.head())\n",
    "#df_merge.isnull().sum()\n",
    "#df_merge.duplicated().count()\n",
    "#df_merge.dropna(inplace=True)\n",
    "df_merge.shape"
   ]
  },
  {
   "cell_type": "code",
   "execution_count": null,
   "id": "42b06b9f",
   "metadata": {
    "scrolled": true
   },
   "outputs": [],
   "source": [
    "# Create a new DataFrame with the merged columns\n",
    "df_merge = pd.DataFrame()\n",
    "\n",
    "# Merge the location columns\n",
    "df_merge['Location'] = df_merge_sensors['Location_x'].fillna(df_merge_sensors['Location_y'])\n",
    "\n",
    "# Merge the type columns\n",
    "df_merge['Type'] = df_merge_sensors['Type_x'].fillna(df_merge_sensors['Type_y'])\n",
    "\n",
    "# Merge the place columns\n",
    "df_merge['Place'] = df_merge_sensors['Place_x'].fillna(df_merge_sensors['Place_y'])\n",
    "\n",
    "# Merge the activity columns\n",
    "df_merge['Activity'] = df_merge_labels['Activity_x'].fillna(df_merge_labels['Activity_y'])\n",
    "\n",
    "# Merge the Start time columns\n",
    "df_merge['Start time'] = df_merge_labels['Start time'].fillna(df_merge_labels['Start time'])\n",
    "\n",
    "# Merge the End time columns\n",
    "df_merge['End time'] = df_merge_labels['End time'].fillna(df_merge_labels['End time'])\n",
    "\n",
    "# Print the first few rows of the merged DataFrame\n",
    "print(df_merge.head())\n",
    "print(df_merge.columns)\n",
    "\n",
    "#df_merge.to_csv('merged_data.csv', index=False)\n",
    "df_merge.shape"
   ]
  },
  {
   "cell_type": "code",
   "execution_count": null,
   "id": "dde081d0",
   "metadata": {},
   "outputs": [],
   "source": [
    "# Convert 'Start time' and 'End time' columns to datetime format\n",
    "df_merge['Start time'] = pd.to_datetime(df_merge['Start time'])\n",
    "df_merge['End time'] = pd.to_datetime(df_merge['End time'])\n",
    "\n",
    "# Convert 'Location', 'Type', 'Place', and 'Activity' columns to categorical format\n",
    "df_merge['Location'] = df_merge['Location'].astype('category')\n",
    "df_merge['Type'] = df_merge['Type'].astype('category')\n",
    "df_merge['Place'] = df_merge['Place'].astype('category')\n",
    "df_merge['Activity'] = df_merge['Activity'].astype('category')\n",
    "\n",
    "df_merge.to_csv('merged_data.csv', index=False)\n",
    "df = pd.read_csv('merged_data.csv')\n",
    "print(df.shape)\n",
    "df.info()\n",
    "num_cols = ['Location', 'Type', 'Place','Activity','Start time','End time']\n",
    "#df[num_cols].isnull().sum()"
   ]
  },
  {
   "cell_type": "code",
   "execution_count": null,
   "id": "641d8e7b",
   "metadata": {},
   "outputs": [],
   "source": [
    "#Approach 1(Using Standardscalar)\n",
    "df = pd.read_csv('merged_data.csv')\n",
    "df = df.drop(['Activity', 'Start time', 'End time'], axis=1)\n",
    "df = pd.get_dummies(df)\n",
    "scaler = StandardScaler()\n",
    "df_scaled = scaler.fit_transform(df)\n",
    "kmeans = KMeans(n_clusters=11, random_state=42)\n",
    "kmeans.fit(df_scaled)"
   ]
  },
  {
   "cell_type": "code",
   "execution_count": null,
   "id": "59e97275",
   "metadata": {
    "scrolled": true
   },
   "outputs": [],
   "source": [
    "pca = PCA(n_components=2)\n",
    "principal_components = pca.fit_transform(df_scaled)\n",
    "\n",
    "plt.scatter(principal_components[:,0], principal_components[:,1], c=kmeans.labels_.astype(float))\n",
    "plt.title('KMeans Clusters')\n",
    "plt.xlabel('PC1')\n",
    "plt.ylabel('PC2')\n",
    "plt.show()"
   ]
  },
  {
   "cell_type": "code",
   "execution_count": null,
   "id": "58b30a6d",
   "metadata": {},
   "outputs": [],
   "source": [
    "##Approach 2(Using Label Encoder)\n",
    "# Load the dataset\n",
    "df = pd.read_csv('merged_data.csv')\n",
    "\n",
    "# Drop the activity column and the time columns\n",
    "df = df.drop(['Activity', 'Start time', 'End time'], axis=1)\n",
    "\n",
    "# Convert categorical variables to numeric using label encoding\n",
    "le = LabelEncoder()\n",
    "for column in df.columns:\n",
    "    df[column] = le.fit_transform(df[column])\n",
    "\n",
    "# Apply k-modes clustering with k=11\n",
    "km = KModes(n_clusters=11, init='Huang', n_init=5, verbose=1)\n",
    "clusters = km.fit_predict(df)\n",
    "\n",
    "# Print the cluster centroids\n",
    "print(km.cluster_centroids_)\n",
    "\n",
    "# Calculate the overall accuracy\n",
    "accuracy = sum(clusters == df.values.argmax(axis=1)) / len(df)\n",
    "print(\"Overall accuracy:\", accuracy)\n",
    "\n",
    "# Evaluate the cluster performance using the silhouette coefficient\n",
    "from sklearn.metrics import silhouette_score\n",
    "silhouette_avg = silhouette_score(df, clusters)\n",
    "print(\"Silhouette coefficient:\", silhouette_avg)\n",
    "\n",
    "# Compute the confusion matrix\n",
    "from sklearn.metrics import confusion_matrix\n",
    "labels_true = df.values.argmax(axis=1)\n",
    "confusion = confusion_matrix(labels_true, clusters)\n",
    "print(\"Confusion matrix:\")\n",
    "print(confusion)\n"
   ]
  },
  {
   "cell_type": "code",
   "execution_count": null,
   "id": "46ac840d",
   "metadata": {},
   "outputs": [],
   "source": [
    "# Add the cluster labels to the original dataframe\n",
    "df['cluster'] = clusters\n",
    "\n",
    "# Visualize the clusters\n",
    "sns.scatterplot(x='Location', y='Type', hue='cluster', data=df)\n",
    "plt.scatter(km.cluster_centroids_[:, 0], km.cluster_centroids_[:, 1], c='red', marker='x', s=200)\n",
    "plt.show()\n"
   ]
  },
  {
   "cell_type": "code",
   "execution_count": null,
   "id": "4e45bb91",
   "metadata": {},
   "outputs": [],
   "source": [
    "# Evaluate the cluster performance\n",
    "hcv = homogeneity_completeness_v_measure(true_labels, clusters)\n",
    "print(f\"Homogeneity: {hcv[0]:.3f}\")\n",
    "print(f\"Completeness: {hcv[1]:.3f}\")\n",
    "print(f\"V-Measure: {hcv[2]:.3f}\")"
   ]
  },
  {
   "cell_type": "code",
   "execution_count": null,
   "id": "8be27678",
   "metadata": {},
   "outputs": [],
   "source": [
    "#Practice plot\n",
    "# Load the dataset\n",
    "df = pd.read_csv('merged_data.csv')\n",
    "\n",
    "# Drop Activity, Start time and End time columns\n",
    "df = df.drop(['Activity', 'Start time', 'End time'], axis=1)\n",
    "\n",
    "# Convert remaining columns to categorical data type\n",
    "df = df.astype('category')\n",
    "\n",
    "# Apply kmode clustering with 11 clusters\n",
    "km = KModes(n_clusters=11, init='Huang', n_init=5, verbose=1)\n",
    "clusters = km.fit_predict(df)\n",
    "\n",
    "# Visualize the clusters\n",
    "import matplotlib.pyplot as plt\n",
    "\n",
    "fig, ax = plt.subplots()\n",
    "scatter = ax.scatter(df['Location'], df['Type'], c=clusters, s=50)\n",
    "legend = ax.legend(*scatter.legend_elements(),\n",
    "                    loc=\"upper right\", title=\"Clusters\")\n",
    "ax.add_artist(legend)\n",
    "plt.xlabel('Location')\n",
    "plt.ylabel('Type')\n",
    "plt.show()"
   ]
  },
  {
   "cell_type": "code",
   "execution_count": null,
   "id": "cbaf0ddc",
   "metadata": {},
   "outputs": [],
   "source": []
  }
 ],
 "metadata": {
  "kernelspec": {
   "display_name": "Python 3 (ipykernel)",
   "language": "python",
   "name": "python3"
  },
  "language_info": {
   "codemirror_mode": {
    "name": "ipython",
    "version": 3
   },
   "file_extension": ".py",
   "mimetype": "text/x-python",
   "name": "python",
   "nbconvert_exporter": "python",
   "pygments_lexer": "ipython3",
   "version": "3.10.9"
  }
 },
 "nbformat": 4,
 "nbformat_minor": 5
}
